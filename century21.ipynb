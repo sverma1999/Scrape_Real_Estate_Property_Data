{
 "cells": [
  {
   "cell_type": "code",
   "execution_count": 87,
   "metadata": {},
   "outputs": [
    {
     "name": "stdout",
     "output_type": "stream",
     "text": [
      "http://pyclass.com/real-estate/rock-springs-wy/LCWYROCKSPRINGS/t=0&s=0.html\n",
      "http://pyclass.com/real-estate/rock-springs-wy/LCWYROCKSPRINGS/t=0&s=10.html\n",
      "http://pyclass.com/real-estate/rock-springs-wy/LCWYROCKSPRINGS/t=0&s=20.html\n"
     ]
    }
   ],
   "source": [
    "import requests\n",
    "from bs4 import BeautifulSoup\n",
    "\n",
    "req = requests.get(\"http://www.pyclass.com/real-estate/rock-springs-wy/LCWYROCKSPRINGS/\", headers={'User-agent': 'Mozilla/5.0 (X11; Ubuntu; Linux x86_64; rv:61.0) Gecko/20100101 Firefox/61.0'})\n",
    "con = req.content\n",
    "\n",
    "bsoup = BeautifulSoup(con,\"html.parser\")\n",
    "\n",
    "all = bsoup.find_all(\"div\", {\"class\": \"propertyRow\"})\n",
    "all[0].find(\"h4\", {\"class\": \"propPrice\"}).text.replace(\"\\n\", \"\").replace(\" \",\"\")\n",
    "\n",
    "page_num = bsoup.find_all(\"a\", {\"class\": \"Page\"})[-1].text\n",
    "\n",
    "\n",
    "dectionaryList = []\n",
    "\n",
    "base_url = \"http://pyclass.com/real-estate/rock-springs-wy/LCWYROCKSPRINGS/t=0&s=\"\n",
    "headers={'User-agent': 'Mozilla/5.0 (X11; Ubuntu; Linux x86_64; rv:61.0) Gecko/20100101 Firefox/61.0'}\n",
    "for page in range(0,int(page_num)*10,10):\n",
    "    print(base_url + str(page) + \".html\")\n",
    "    req = requests.get(base_url + str(page) + \".html\", headers = headers)\n",
    "    con = req.content\n",
    "    bsoup = BeautifulSoup(con, \"html.parser\")\n",
    "    all = bsoup.find_all(\"div\", {\"class\": \"propertyRow\"})\n",
    "\n",
    "\n",
    "    for item in all:\n",
    "        dectionary = {}\n",
    "        dectionary[\"Price\"] = item.find(\"h4\",{\"class\": \"propPrice\"}).text.replace(\"\\n\", \"\").replace(\" \",\"\")\n",
    "        dectionary[\"Address\"] = item.find_all(\"span\", {\"class\": \"propAddressCollapse\"})[0].text\n",
    "        try:\n",
    "            dectionary[\"Locality\"] = item.find_all(\"span\", {\"class\": \"propAddressCollapse\"})[1].text\n",
    "        except:\n",
    "            dectionary[\"Locality\"] = None\n",
    "        try:\n",
    "            dectionary[\"Beds\"] = item.find(\"span\", {\"class\": \"infoBed\"}).find(\"b\").text\n",
    "        except:\n",
    "            dectionary[\"Beds\"] = None\n",
    "\n",
    "        try:\n",
    "            dectionary[\"Area\"] = item.find(\"span\", {\"class\": \"infoSqFt\"}).find(\"b\").text\n",
    "        except:\n",
    "            dectionary[\"Area\"] = None\n",
    "\n",
    "        try:\n",
    "            dectionary[\"Full Baths\"] = item.find(\"span\", {\"class\": \"infoValueFullBath\"}).find(\"b\").text\n",
    "        except:\n",
    "            dectionary[\"Full Baths\"] = None\n",
    "\n",
    "        try:\n",
    "            dectionary[\"Half Baths\"] = item.find(\"span\", {\"class\": \"infoValueHalfBath\"}).find(\"b\").text\n",
    "        except:\n",
    "            dectionary[\"Half Baths\"] = None\n",
    "\n",
    "        for column_group in item.find_all(\"div\", {\"class\": \"columnGroup\"}):\n",
    "            for feature_group, feature_name in zip(column_group.find_all(\"span\", {\"class\": \"featureGroup\"}), column_group.find_all(\"span\", {\"class\": \"featureName\"})):\n",
    "                if \"Lot Size\" in feature_group.text:\n",
    "                    dectionary[\"Lot Size\"] = feature_name.text\n",
    "\n",
    "        dectionaryList.append(dectionary)\n",
    "\n",
    "\n",
    "import pandas\n",
    "dtFrame = pandas.DataFrame(dectionaryList)\n",
    "\n",
    "dtFrame.to_csv(\"Century21Property.csv\")\n",
    "\n"
   ]
  }
 ],
 "metadata": {
  "kernelspec": {
   "display_name": "Python 3",
   "language": "python",
   "name": "python3"
  },
  "language_info": {
   "codemirror_mode": {
    "name": "ipython",
    "version": 3
   },
   "file_extension": ".py",
   "mimetype": "text/x-python",
   "name": "python",
   "nbconvert_exporter": "python",
   "pygments_lexer": "ipython3",
   "version": "3.8.2"
  }
 },
 "nbformat": 4,
 "nbformat_minor": 4
}
